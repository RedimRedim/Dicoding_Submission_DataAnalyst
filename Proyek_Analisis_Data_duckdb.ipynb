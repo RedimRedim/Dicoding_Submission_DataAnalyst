{
 "cells": [
  {
   "cell_type": "markdown",
   "metadata": {
    "id": "H9wADwK78DCz"
   },
   "source": [
    "# Data Analysis Project: [E-Commerce Public Dataset]\n",
    "- **Name:** [Rudianto]\n",
    "- **Email:** [rudrud1899@gmail.com]\n",
    "- **ID Coding:** [rudrud]"
   ]
  },
  {
   "cell_type": "markdown",
   "metadata": {
    "id": "eE0raob58DC0"
   },
   "source": [
    "## Defining Business Questions"
   ]
  },
  {
   "cell_type": "markdown",
   "metadata": {
    "id": "GmQeQ5YF8DC0"
   },
   "source": [
    "- How's the order_ratio on our payment type that customer used to pay? \n",
    "- Which products do customers purchase using a credit card in year 2017 with the highest number of installments? List the top 5 products.\n",
    "\n",
    "Make sure order_status is being marked as 'delivered'"
   ]
  },
  {
   "cell_type": "markdown",
   "metadata": {
    "id": "H-z4QGlO8DC1"
   },
   "source": [
    "## Import All Packages/Libraries Used"
   ]
  },
  {
   "cell_type": "code",
   "execution_count": 9,
   "metadata": {
    "id": "FVYwaObI8DC1"
   },
   "outputs": [],
   "source": [
    "import pandas as pd\n",
    "import duckdb\n",
    "import matplotlib.pyplot as plt\n",
    "import numpy as np"
   ]
  },
  {
   "cell_type": "markdown",
   "metadata": {
    "id": "h_Sh51Xy8DC1"
   },
   "source": [
    "## Data Wrangling"
   ]
  },
  {
   "cell_type": "markdown",
   "metadata": {
    "id": "sXU2GBYu8DC1"
   },
   "source": [
    "### Gathering Data"
   ]
  },
  {
   "cell_type": "code",
   "execution_count": 10,
   "metadata": {
    "id": "zjCBk1BI8DC1"
   },
   "outputs": [
    {
     "data": {
      "text/html": [
       "<div>\n",
       "<style scoped>\n",
       "    .dataframe tbody tr th:only-of-type {\n",
       "        vertical-align: middle;\n",
       "    }\n",
       "\n",
       "    .dataframe tbody tr th {\n",
       "        vertical-align: top;\n",
       "    }\n",
       "\n",
       "    .dataframe thead th {\n",
       "        text-align: right;\n",
       "    }\n",
       "</style>\n",
       "<table border=\"1\" class=\"dataframe\">\n",
       "  <thead>\n",
       "    <tr style=\"text-align: right;\">\n",
       "      <th></th>\n",
       "      <th>order_id</th>\n",
       "      <th>order_item_id</th>\n",
       "      <th>product_id</th>\n",
       "      <th>seller_id</th>\n",
       "      <th>shipping_limit_date</th>\n",
       "      <th>price</th>\n",
       "      <th>freight_value</th>\n",
       "      <th>product_category_name</th>\n",
       "      <th>order_approved_at</th>\n",
       "      <th>order_status</th>\n",
       "      <th>year</th>\n",
       "    </tr>\n",
       "  </thead>\n",
       "  <tbody>\n",
       "    <tr>\n",
       "      <th>0</th>\n",
       "      <td>00010242fe8c5a6d1ba2dd792cb16214</td>\n",
       "      <td>1</td>\n",
       "      <td>4244733e06e7ecb4970a6e2683c13e61</td>\n",
       "      <td>48436dade18ac8b2bce089ec2a041202</td>\n",
       "      <td>2017-09-19 09:45:35</td>\n",
       "      <td>58.90</td>\n",
       "      <td>13.29</td>\n",
       "      <td>cool_stuff</td>\n",
       "      <td>2017-09-13 09:45:35</td>\n",
       "      <td>delivered</td>\n",
       "      <td>2017.0</td>\n",
       "    </tr>\n",
       "    <tr>\n",
       "      <th>1</th>\n",
       "      <td>00018f77f2f0320c557190d7a144bdd3</td>\n",
       "      <td>1</td>\n",
       "      <td>e5f2d52b802189ee658865ca93d83a8f</td>\n",
       "      <td>dd7ddc04e1b6c2c614352b383efe2d36</td>\n",
       "      <td>2017-05-03 11:05:13</td>\n",
       "      <td>239.90</td>\n",
       "      <td>19.93</td>\n",
       "      <td>pet_shop</td>\n",
       "      <td>2017-04-26 11:05:13</td>\n",
       "      <td>delivered</td>\n",
       "      <td>2017.0</td>\n",
       "    </tr>\n",
       "    <tr>\n",
       "      <th>2</th>\n",
       "      <td>000229ec398224ef6ca0657da4fc703e</td>\n",
       "      <td>1</td>\n",
       "      <td>c777355d18b72b67abbeef9df44fd0fd</td>\n",
       "      <td>5b51032eddd242adc84c38acab88f23d</td>\n",
       "      <td>2018-01-18 14:48:30</td>\n",
       "      <td>199.00</td>\n",
       "      <td>17.87</td>\n",
       "      <td>moveis_decoracao</td>\n",
       "      <td>2018-01-14 14:48:30</td>\n",
       "      <td>delivered</td>\n",
       "      <td>2018.0</td>\n",
       "    </tr>\n",
       "    <tr>\n",
       "      <th>3</th>\n",
       "      <td>00024acbcdf0a6daa1e931b038114c75</td>\n",
       "      <td>1</td>\n",
       "      <td>7634da152a4610f1595efa32f14722fc</td>\n",
       "      <td>9d7a1d34a5052409006425275ba1c2b4</td>\n",
       "      <td>2018-08-15 10:10:18</td>\n",
       "      <td>12.99</td>\n",
       "      <td>12.79</td>\n",
       "      <td>perfumaria</td>\n",
       "      <td>2018-08-08 10:10:18</td>\n",
       "      <td>delivered</td>\n",
       "      <td>2018.0</td>\n",
       "    </tr>\n",
       "    <tr>\n",
       "      <th>4</th>\n",
       "      <td>00042b26cf59d7ce69dfabb4e55b4fd9</td>\n",
       "      <td>1</td>\n",
       "      <td>ac6c3623068f30de03045865e4e10089</td>\n",
       "      <td>df560393f3a51e74553ab94004ba5c87</td>\n",
       "      <td>2017-02-13 13:57:51</td>\n",
       "      <td>199.90</td>\n",
       "      <td>18.14</td>\n",
       "      <td>ferramentas_jardim</td>\n",
       "      <td>2017-02-04 14:10:13</td>\n",
       "      <td>delivered</td>\n",
       "      <td>2017.0</td>\n",
       "    </tr>\n",
       "    <tr>\n",
       "      <th>5</th>\n",
       "      <td>00048cc3ae777c65dbb7d2a0634bc1ea</td>\n",
       "      <td>1</td>\n",
       "      <td>ef92defde845ab8450f9d70c526ef70f</td>\n",
       "      <td>6426d21aca402a131fc0a5d0960a3c90</td>\n",
       "      <td>2017-05-23 03:55:27</td>\n",
       "      <td>21.90</td>\n",
       "      <td>12.69</td>\n",
       "      <td>utilidades_domesticas</td>\n",
       "      <td>2017-05-17 03:55:27</td>\n",
       "      <td>delivered</td>\n",
       "      <td>2017.0</td>\n",
       "    </tr>\n",
       "    <tr>\n",
       "      <th>6</th>\n",
       "      <td>00054e8431b9d7675808bcb819fb4a32</td>\n",
       "      <td>1</td>\n",
       "      <td>8d4f2bb7e93e6710a28f34fa83ee7d28</td>\n",
       "      <td>7040e82f899a04d1b434b795a43b4617</td>\n",
       "      <td>2017-12-14 12:10:31</td>\n",
       "      <td>19.90</td>\n",
       "      <td>11.85</td>\n",
       "      <td>telefonia</td>\n",
       "      <td>2017-12-10 12:10:31</td>\n",
       "      <td>delivered</td>\n",
       "      <td>2017.0</td>\n",
       "    </tr>\n",
       "    <tr>\n",
       "      <th>7</th>\n",
       "      <td>000576fe39319847cbb9d288c5617fa6</td>\n",
       "      <td>1</td>\n",
       "      <td>557d850972a7d6f792fd18ae1400d9b6</td>\n",
       "      <td>5996cddab893a4652a15592fb58ab8db</td>\n",
       "      <td>2018-07-10 12:30:45</td>\n",
       "      <td>810.00</td>\n",
       "      <td>70.75</td>\n",
       "      <td>ferramentas_jardim</td>\n",
       "      <td>2018-07-05 16:35:48</td>\n",
       "      <td>delivered</td>\n",
       "      <td>2018.0</td>\n",
       "    </tr>\n",
       "    <tr>\n",
       "      <th>8</th>\n",
       "      <td>0005a1a1728c9d785b8e2b08b904576c</td>\n",
       "      <td>1</td>\n",
       "      <td>310ae3c140ff94b03219ad0adc3c778f</td>\n",
       "      <td>a416b6a846a11724393025641d4edd5e</td>\n",
       "      <td>2018-03-26 18:31:29</td>\n",
       "      <td>145.95</td>\n",
       "      <td>11.65</td>\n",
       "      <td>beleza_saude</td>\n",
       "      <td>2018-03-20 18:35:21</td>\n",
       "      <td>delivered</td>\n",
       "      <td>2018.0</td>\n",
       "    </tr>\n",
       "    <tr>\n",
       "      <th>9</th>\n",
       "      <td>0005f50442cb953dcd1d21e1fb923495</td>\n",
       "      <td>1</td>\n",
       "      <td>4535b0e1091c278dfd193e5a1d63b39f</td>\n",
       "      <td>ba143b05f0110f0dc71ad71b4466ce92</td>\n",
       "      <td>2018-07-06 14:10:56</td>\n",
       "      <td>53.99</td>\n",
       "      <td>11.40</td>\n",
       "      <td>livros_tecnicos</td>\n",
       "      <td>2018-07-02 14:10:56</td>\n",
       "      <td>delivered</td>\n",
       "      <td>2018.0</td>\n",
       "    </tr>\n",
       "  </tbody>\n",
       "</table>\n",
       "</div>"
      ],
      "text/plain": [
       "                           order_id  order_item_id  \\\n",
       "0  00010242fe8c5a6d1ba2dd792cb16214              1   \n",
       "1  00018f77f2f0320c557190d7a144bdd3              1   \n",
       "2  000229ec398224ef6ca0657da4fc703e              1   \n",
       "3  00024acbcdf0a6daa1e931b038114c75              1   \n",
       "4  00042b26cf59d7ce69dfabb4e55b4fd9              1   \n",
       "5  00048cc3ae777c65dbb7d2a0634bc1ea              1   \n",
       "6  00054e8431b9d7675808bcb819fb4a32              1   \n",
       "7  000576fe39319847cbb9d288c5617fa6              1   \n",
       "8  0005a1a1728c9d785b8e2b08b904576c              1   \n",
       "9  0005f50442cb953dcd1d21e1fb923495              1   \n",
       "\n",
       "                         product_id                         seller_id  \\\n",
       "0  4244733e06e7ecb4970a6e2683c13e61  48436dade18ac8b2bce089ec2a041202   \n",
       "1  e5f2d52b802189ee658865ca93d83a8f  dd7ddc04e1b6c2c614352b383efe2d36   \n",
       "2  c777355d18b72b67abbeef9df44fd0fd  5b51032eddd242adc84c38acab88f23d   \n",
       "3  7634da152a4610f1595efa32f14722fc  9d7a1d34a5052409006425275ba1c2b4   \n",
       "4  ac6c3623068f30de03045865e4e10089  df560393f3a51e74553ab94004ba5c87   \n",
       "5  ef92defde845ab8450f9d70c526ef70f  6426d21aca402a131fc0a5d0960a3c90   \n",
       "6  8d4f2bb7e93e6710a28f34fa83ee7d28  7040e82f899a04d1b434b795a43b4617   \n",
       "7  557d850972a7d6f792fd18ae1400d9b6  5996cddab893a4652a15592fb58ab8db   \n",
       "8  310ae3c140ff94b03219ad0adc3c778f  a416b6a846a11724393025641d4edd5e   \n",
       "9  4535b0e1091c278dfd193e5a1d63b39f  ba143b05f0110f0dc71ad71b4466ce92   \n",
       "\n",
       "  shipping_limit_date   price  freight_value  product_category_name  \\\n",
       "0 2017-09-19 09:45:35   58.90          13.29             cool_stuff   \n",
       "1 2017-05-03 11:05:13  239.90          19.93               pet_shop   \n",
       "2 2018-01-18 14:48:30  199.00          17.87       moveis_decoracao   \n",
       "3 2018-08-15 10:10:18   12.99          12.79             perfumaria   \n",
       "4 2017-02-13 13:57:51  199.90          18.14     ferramentas_jardim   \n",
       "5 2017-05-23 03:55:27   21.90          12.69  utilidades_domesticas   \n",
       "6 2017-12-14 12:10:31   19.90          11.85              telefonia   \n",
       "7 2018-07-10 12:30:45  810.00          70.75     ferramentas_jardim   \n",
       "8 2018-03-26 18:31:29  145.95          11.65           beleza_saude   \n",
       "9 2018-07-06 14:10:56   53.99          11.40        livros_tecnicos   \n",
       "\n",
       "    order_approved_at order_status    year  \n",
       "0 2017-09-13 09:45:35    delivered  2017.0  \n",
       "1 2017-04-26 11:05:13    delivered  2017.0  \n",
       "2 2018-01-14 14:48:30    delivered  2018.0  \n",
       "3 2018-08-08 10:10:18    delivered  2018.0  \n",
       "4 2017-02-04 14:10:13    delivered  2017.0  \n",
       "5 2017-05-17 03:55:27    delivered  2017.0  \n",
       "6 2017-12-10 12:10:31    delivered  2017.0  \n",
       "7 2018-07-05 16:35:48    delivered  2018.0  \n",
       "8 2018-03-20 18:35:21    delivered  2018.0  \n",
       "9 2018-07-02 14:10:56    delivered  2018.0  "
      ]
     },
     "execution_count": 10,
     "metadata": {},
     "output_type": "execute_result"
    }
   ],
   "source": [
    "conn = duckdb.connect()\n",
    "conn.sql('INSTALL spatial')\n",
    "conn.sql('LOAD spatial')\n",
    "\n",
    "product_df = conn.execute('''SELECT item_dataset.*,  product_category_name, order_approved_at, order_status,\n",
    "                          EXTRACT(YEAR FROM CAST(order_approved_at AS DATE)) AS year\n",
    "                          FROM './datasets/olist_order_items_dataset.csv' as item_dataset\n",
    "                          LEFT JOIN './datasets/olist_products_dataset.csv' as product_dataset\n",
    "                          ON product_dataset.product_id = item_dataset.product_id\n",
    "                          LEFT JOIN './datasets/olist_orders_dataset.csv' as order_dataset\n",
    "                          ON order_dataset.order_id = item_dataset.order_id\n",
    "           ''').fetchdf()\n",
    "\n",
    "\n",
    "product_df.head(10)"
   ]
  },
  {
   "cell_type": "markdown",
   "metadata": {
    "id": "FHSiqaZp8DC1"
   },
   "source": [
    "### Assessing & Cleaning Data"
   ]
  },
  {
   "cell_type": "code",
   "execution_count": 11,
   "metadata": {
    "id": "ax-3tEjc9Cj1"
   },
   "outputs": [
    {
     "data": {
      "text/html": [
       "<div>\n",
       "<style scoped>\n",
       "    .dataframe tbody tr th:only-of-type {\n",
       "        vertical-align: middle;\n",
       "    }\n",
       "\n",
       "    .dataframe tbody tr th {\n",
       "        vertical-align: top;\n",
       "    }\n",
       "\n",
       "    .dataframe thead th {\n",
       "        text-align: right;\n",
       "    }\n",
       "</style>\n",
       "<table border=\"1\" class=\"dataframe\">\n",
       "  <thead>\n",
       "    <tr style=\"text-align: right;\">\n",
       "      <th></th>\n",
       "      <th>order_id</th>\n",
       "      <th>order_item_id</th>\n",
       "      <th>product_id</th>\n",
       "      <th>seller_id</th>\n",
       "      <th>shipping_limit_date</th>\n",
       "      <th>price</th>\n",
       "      <th>freight_value</th>\n",
       "      <th>product_category_name</th>\n",
       "      <th>order_approved_at</th>\n",
       "      <th>order_status</th>\n",
       "      <th>year</th>\n",
       "    </tr>\n",
       "  </thead>\n",
       "  <tbody>\n",
       "    <tr>\n",
       "      <th>0</th>\n",
       "      <td>00010242fe8c5a6d1ba2dd792cb16214</td>\n",
       "      <td>1</td>\n",
       "      <td>4244733e06e7ecb4970a6e2683c13e61</td>\n",
       "      <td>48436dade18ac8b2bce089ec2a041202</td>\n",
       "      <td>2017-09-19 09:45:35</td>\n",
       "      <td>58.90</td>\n",
       "      <td>13.29</td>\n",
       "      <td>cool_stuff</td>\n",
       "      <td>2017-09-13 09:45:35</td>\n",
       "      <td>delivered</td>\n",
       "      <td>2017.0</td>\n",
       "    </tr>\n",
       "    <tr>\n",
       "      <th>1</th>\n",
       "      <td>00018f77f2f0320c557190d7a144bdd3</td>\n",
       "      <td>1</td>\n",
       "      <td>e5f2d52b802189ee658865ca93d83a8f</td>\n",
       "      <td>dd7ddc04e1b6c2c614352b383efe2d36</td>\n",
       "      <td>2017-05-03 11:05:13</td>\n",
       "      <td>239.90</td>\n",
       "      <td>19.93</td>\n",
       "      <td>pet_shop</td>\n",
       "      <td>2017-04-26 11:05:13</td>\n",
       "      <td>delivered</td>\n",
       "      <td>2017.0</td>\n",
       "    </tr>\n",
       "    <tr>\n",
       "      <th>2</th>\n",
       "      <td>000229ec398224ef6ca0657da4fc703e</td>\n",
       "      <td>1</td>\n",
       "      <td>c777355d18b72b67abbeef9df44fd0fd</td>\n",
       "      <td>5b51032eddd242adc84c38acab88f23d</td>\n",
       "      <td>2018-01-18 14:48:30</td>\n",
       "      <td>199.00</td>\n",
       "      <td>17.87</td>\n",
       "      <td>moveis_decoracao</td>\n",
       "      <td>2018-01-14 14:48:30</td>\n",
       "      <td>delivered</td>\n",
       "      <td>2018.0</td>\n",
       "    </tr>\n",
       "    <tr>\n",
       "      <th>3</th>\n",
       "      <td>00024acbcdf0a6daa1e931b038114c75</td>\n",
       "      <td>1</td>\n",
       "      <td>7634da152a4610f1595efa32f14722fc</td>\n",
       "      <td>9d7a1d34a5052409006425275ba1c2b4</td>\n",
       "      <td>2018-08-15 10:10:18</td>\n",
       "      <td>12.99</td>\n",
       "      <td>12.79</td>\n",
       "      <td>perfumaria</td>\n",
       "      <td>2018-08-08 10:10:18</td>\n",
       "      <td>delivered</td>\n",
       "      <td>2018.0</td>\n",
       "    </tr>\n",
       "    <tr>\n",
       "      <th>4</th>\n",
       "      <td>00042b26cf59d7ce69dfabb4e55b4fd9</td>\n",
       "      <td>1</td>\n",
       "      <td>ac6c3623068f30de03045865e4e10089</td>\n",
       "      <td>df560393f3a51e74553ab94004ba5c87</td>\n",
       "      <td>2017-02-13 13:57:51</td>\n",
       "      <td>199.90</td>\n",
       "      <td>18.14</td>\n",
       "      <td>ferramentas_jardim</td>\n",
       "      <td>2017-02-04 14:10:13</td>\n",
       "      <td>delivered</td>\n",
       "      <td>2017.0</td>\n",
       "    </tr>\n",
       "  </tbody>\n",
       "</table>\n",
       "</div>"
      ],
      "text/plain": [
       "                           order_id  order_item_id  \\\n",
       "0  00010242fe8c5a6d1ba2dd792cb16214              1   \n",
       "1  00018f77f2f0320c557190d7a144bdd3              1   \n",
       "2  000229ec398224ef6ca0657da4fc703e              1   \n",
       "3  00024acbcdf0a6daa1e931b038114c75              1   \n",
       "4  00042b26cf59d7ce69dfabb4e55b4fd9              1   \n",
       "\n",
       "                         product_id                         seller_id  \\\n",
       "0  4244733e06e7ecb4970a6e2683c13e61  48436dade18ac8b2bce089ec2a041202   \n",
       "1  e5f2d52b802189ee658865ca93d83a8f  dd7ddc04e1b6c2c614352b383efe2d36   \n",
       "2  c777355d18b72b67abbeef9df44fd0fd  5b51032eddd242adc84c38acab88f23d   \n",
       "3  7634da152a4610f1595efa32f14722fc  9d7a1d34a5052409006425275ba1c2b4   \n",
       "4  ac6c3623068f30de03045865e4e10089  df560393f3a51e74553ab94004ba5c87   \n",
       "\n",
       "  shipping_limit_date   price  freight_value product_category_name  \\\n",
       "0 2017-09-19 09:45:35   58.90          13.29            cool_stuff   \n",
       "1 2017-05-03 11:05:13  239.90          19.93              pet_shop   \n",
       "2 2018-01-18 14:48:30  199.00          17.87      moveis_decoracao   \n",
       "3 2018-08-15 10:10:18   12.99          12.79            perfumaria   \n",
       "4 2017-02-13 13:57:51  199.90          18.14    ferramentas_jardim   \n",
       "\n",
       "    order_approved_at order_status    year  \n",
       "0 2017-09-13 09:45:35    delivered  2017.0  \n",
       "1 2017-04-26 11:05:13    delivered  2017.0  \n",
       "2 2018-01-14 14:48:30    delivered  2018.0  \n",
       "3 2018-08-08 10:10:18    delivered  2018.0  \n",
       "4 2017-02-04 14:10:13    delivered  2017.0  "
      ]
     },
     "execution_count": 11,
     "metadata": {},
     "output_type": "execute_result"
    }
   ],
   "source": [
    "#Asessing Data\n",
    "\n",
    "#Cleaning Data\n",
    "product_df.dropna()\n",
    "product_df.drop_duplicates()\n",
    "product_df = product_df[product_df[\"order_status\"].isin([\"delivered\", \"shipped\", \"canceled\"])\n",
    "        ]\n",
    "\n",
    "product_df = product_df[product_df[\"year\"].isin([2017, 2018])]\n",
    "product_df.head(5)"
   ]
  },
  {
   "cell_type": "markdown",
   "metadata": {
    "id": "gp-Y6wU38DC1"
   },
   "source": [
    "## Exploratory Data Analysis (EDA)"
   ]
  },
  {
   "cell_type": "code",
   "execution_count": 12,
   "metadata": {},
   "outputs": [
    {
     "data": {
      "text/html": [
       "<div>\n",
       "<style scoped>\n",
       "    .dataframe tbody tr th:only-of-type {\n",
       "        vertical-align: middle;\n",
       "    }\n",
       "\n",
       "    .dataframe tbody tr th {\n",
       "        vertical-align: top;\n",
       "    }\n",
       "\n",
       "    .dataframe thead th {\n",
       "        text-align: right;\n",
       "    }\n",
       "</style>\n",
       "<table border=\"1\" class=\"dataframe\">\n",
       "  <thead>\n",
       "    <tr style=\"text-align: right;\">\n",
       "      <th></th>\n",
       "      <th>payment_type</th>\n",
       "      <th>total_order</th>\n",
       "      <th>total_payment</th>\n",
       "      <th>order_ratio</th>\n",
       "      <th>payment_value_ratio</th>\n",
       "    </tr>\n",
       "  </thead>\n",
       "  <tbody>\n",
       "    <tr>\n",
       "      <th>0</th>\n",
       "      <td>credit_card</td>\n",
       "      <td>37873</td>\n",
       "      <td>6784790.65</td>\n",
       "      <td>73.0</td>\n",
       "      <td>77.0</td>\n",
       "    </tr>\n",
       "    <tr>\n",
       "      <th>1</th>\n",
       "      <td>boleto</td>\n",
       "      <td>10558</td>\n",
       "      <td>1835919.81</td>\n",
       "      <td>20.0</td>\n",
       "      <td>21.0</td>\n",
       "    </tr>\n",
       "    <tr>\n",
       "      <th>2</th>\n",
       "      <td>voucher</td>\n",
       "      <td>3189</td>\n",
       "      <td>189980.36</td>\n",
       "      <td>6.0</td>\n",
       "      <td>2.0</td>\n",
       "    </tr>\n",
       "    <tr>\n",
       "      <th>3</th>\n",
       "      <td>debit_card</td>\n",
       "      <td>452</td>\n",
       "      <td>50124.28</td>\n",
       "      <td>1.0</td>\n",
       "      <td>1.0</td>\n",
       "    </tr>\n",
       "  </tbody>\n",
       "</table>\n",
       "</div>"
      ],
      "text/plain": [
       "  payment_type  total_order  total_payment  order_ratio  payment_value_ratio\n",
       "0  credit_card        37873     6784790.65         73.0                 77.0\n",
       "1       boleto        10558     1835919.81         20.0                 21.0\n",
       "2      voucher         3189      189980.36          6.0                  2.0\n",
       "3   debit_card          452       50124.28          1.0                  1.0"
      ]
     },
     "execution_count": 12,
     "metadata": {},
     "output_type": "execute_result"
    }
   ],
   "source": [
    "payment_type_result = conn.execute('''\n",
    "                         SELECT payment_type, \n",
    "                         count(product_df.order_id) as total_order, \n",
    "                         sum(cast (payment_value as decimal)) as total_payment,\n",
    "                         round((count(product_df.order_id) / sum(count(product_df.order_id)) over ()) * 100,0)  as order_ratio,\n",
    "                         round((sum(payment_value) / sum(sum(payment_value)) over ()) * 100,0) as payment_value_ratio\n",
    "                         FROM './datasets/olist_order_payments_dataset.csv' as payment_dataset\n",
    "                         INNER JOIN product_df \n",
    "                         ON product_df.order_id = payment_dataset.order_id\n",
    "                         WHERE order_status like '%delivered%' and year = '2017'\n",
    "                         GROUP BY payment_type\n",
    "                         ORDER BY count(product_df.order_id) DESC\n",
    "                      ''').fetchdf()\n",
    "\n",
    "payment_type_result"
   ]
  },
  {
   "cell_type": "code",
   "execution_count": 13,
   "metadata": {},
   "outputs": [
    {
     "data": {
      "text/html": [
       "<div>\n",
       "<style scoped>\n",
       "    .dataframe tbody tr th:only-of-type {\n",
       "        vertical-align: middle;\n",
       "    }\n",
       "\n",
       "    .dataframe tbody tr th {\n",
       "        vertical-align: top;\n",
       "    }\n",
       "\n",
       "    .dataframe thead th {\n",
       "        text-align: right;\n",
       "    }\n",
       "</style>\n",
       "<table border=\"1\" class=\"dataframe\">\n",
       "  <thead>\n",
       "    <tr style=\"text-align: right;\">\n",
       "      <th></th>\n",
       "      <th>year</th>\n",
       "      <th>payment_installments</th>\n",
       "      <th>product_category_name</th>\n",
       "      <th>total_order</th>\n",
       "      <th>total_payment</th>\n",
       "    </tr>\n",
       "  </thead>\n",
       "  <tbody>\n",
       "    <tr>\n",
       "      <th>0</th>\n",
       "      <td>2017.0</td>\n",
       "      <td>1</td>\n",
       "      <td>esporte_lazer</td>\n",
       "      <td>1086</td>\n",
       "      <td>113847.20</td>\n",
       "    </tr>\n",
       "    <tr>\n",
       "      <th>1</th>\n",
       "      <td>2017.0</td>\n",
       "      <td>1</td>\n",
       "      <td>moveis_decoracao</td>\n",
       "      <td>829</td>\n",
       "      <td>87087.84</td>\n",
       "    </tr>\n",
       "    <tr>\n",
       "      <th>2</th>\n",
       "      <td>2017.0</td>\n",
       "      <td>1</td>\n",
       "      <td>cama_mesa_banho</td>\n",
       "      <td>792</td>\n",
       "      <td>90170.42</td>\n",
       "    </tr>\n",
       "    <tr>\n",
       "      <th>3</th>\n",
       "      <td>2017.0</td>\n",
       "      <td>1</td>\n",
       "      <td>informatica_acessorios</td>\n",
       "      <td>740</td>\n",
       "      <td>103401.60</td>\n",
       "    </tr>\n",
       "    <tr>\n",
       "      <th>4</th>\n",
       "      <td>2017.0</td>\n",
       "      <td>1</td>\n",
       "      <td>telefonia_fixa</td>\n",
       "      <td>45</td>\n",
       "      <td>112609.94</td>\n",
       "    </tr>\n",
       "  </tbody>\n",
       "</table>\n",
       "</div>"
      ],
      "text/plain": [
       "     year  payment_installments   product_category_name  total_order  \\\n",
       "0  2017.0                     1           esporte_lazer         1086   \n",
       "1  2017.0                     1        moveis_decoracao          829   \n",
       "2  2017.0                     1         cama_mesa_banho          792   \n",
       "3  2017.0                     1  informatica_acessorios          740   \n",
       "4  2017.0                     1          telefonia_fixa           45   \n",
       "\n",
       "   total_payment  \n",
       "0      113847.20  \n",
       "1       87087.84  \n",
       "2       90170.42  \n",
       "3      103401.60  \n",
       "4      112609.94  "
      ]
     },
     "execution_count": 13,
     "metadata": {},
     "output_type": "execute_result"
    }
   ],
   "source": [
    "year = 2017\n",
    "payment_result_most_installments = conn.execute(f'''\n",
    "             -- finding most using payment_installments\n",
    "             With most_payment_installments as ( \n",
    "             SELECT payment_installments, sum(payment_value) as total_payment\n",
    "             FROM './datasets/olist_order_payments_dataset.csv'\n",
    "             WHERE  payment_type  like '%credit_card%'\n",
    "             group by payment_installments\n",
    "             order by total_payment desc limit 1),\n",
    "             \n",
    "             -- getting product based in  most_payment_installments to find product_category_name\n",
    "             order_output as (\n",
    "               SELECT * FROM './datasets/olist_order_payments_dataset.csv' as payment_installments_dataset\n",
    "               WHERE  payment_type  like '%credit_card%' and payment_installments = (select payment_installments from most_payment_installments) \n",
    "             ),\n",
    "             \n",
    "             -- getting product name based on order_id\n",
    "             product_category_output as (\n",
    "               select\n",
    "               year,\n",
    "               payment_installments, \n",
    "               product_df.product_category_name, \n",
    "               count(order_output.order_id) as total_order, \n",
    "               sum(payment_value) as total_payment from order_output\n",
    "               INNER JOIN product_df ON order_output.order_id = product_df.order_id\n",
    "              WHERE order_status like '%delivered%' and extract(year from order_approved_at) = '{year}'\n",
    "               group by year, payment_installments , product_df.product_category_name\n",
    "               order by total_payment desc limit 5\n",
    "             )\n",
    "             \n",
    "             select * from product_category_output\n",
    "             order by total_order desc\n",
    "             ''').fetchdf()\n",
    "\n",
    "payment_result_most_installments"
   ]
  },
  {
   "cell_type": "markdown",
   "metadata": {
    "id": "zsyZjqak8DC2"
   },
   "source": [
    "## Visualization & Explanatory Analysis"
   ]
  },
  {
   "cell_type": "markdown",
   "metadata": {
    "id": "HZxOiQ6n8DC2"
   },
   "source": [
    "### Question 1:"
   ]
  },
  {
   "cell_type": "code",
   "execution_count": 14,
   "metadata": {
    "id": "1swJUdAD8DC2"
   },
   "outputs": [
    {
     "data": {
      "image/png": "[encoded data removed]",
      "text/plain": [
       "<Figure size 640x480 with 1 Axes>"
      ]
     },
     "metadata": {},
     "output_type": "display_data"
    }
   ],
   "source": [
    "plt.pie(\n",
    "  x= payment_type_result['order_ratio'],\n",
    "  shadow=True,\n",
    "  startangle=60,\n",
    "  autopct='%1.1f%%',\n",
    ")\n",
    "\n",
    "plt.legend(payment_type_result['payment_type'], loc='lower left')\n",
    "plt.title(\"Customer Order_Ratio based in Payment_Type [Order_status = 'delivered]\")\n",
    "plt.show()"
   ]
  },
  {
   "cell_type": "markdown",
   "metadata": {
    "id": "DgHI7CiU8DC2"
   },
   "source": [
    "### Question 2:"
   ]
  },
  {
   "cell_type": "code",
   "execution_count": 15,
   "metadata": {
    "id": "Go0lCsvO8DC2"
   },
   "outputs": [
    {
     "data": {
      "image/png": "[encoded data removed]",
      "text/plain": [
       "<Figure size 640x480 with 1 Axes>"
      ]
     },
     "metadata": {},
     "output_type": "display_data"
    }
   ],
   "source": [
    "plt.bar(x=payment_result_most_installments['product_category_name'],height=payment_result_most_installments['total_order'])\n",
    "plt.xlabel(\"Product Name\")\n",
    "plt.title(f\"{payment_result_most_installments['year'][0]} Credit Card Top 5 Products - Total Orders Most Installments: {payment_result_most_installments['payment_installments'][0]} - Order_status = 'delivered'\")\n",
    "\n",
    "# Add labels on top of the bars\n",
    "for i, value in enumerate(payment_result_most_installments['total_order']):\n",
    "    plt.text(i, value + 0.1, str(value), ha='center', va='bottom')  # Adjust the label position slightly above the bar\n",
    "\n",
    "plt.xticks(rotation=45, ha='right')  # Rotates labels 45 degrees and aligns them to the right\n",
    "plt.tight_layout()  # This automatically adjusts the padding to fit the labels\n",
    "plt.show()"
   ]
  },
  {
   "cell_type": "markdown",
   "metadata": {
    "id": "9y4VUsmcYNZ5"
   },
   "source": [
    "## Advanced Analysis (Optional)"
   ]
  },
  {
   "cell_type": "markdown",
   "metadata": {
    "id": "_WeHlCeX8DC2"
   },
   "source": [
    "## Conclusion"
   ]
  },
  {
   "cell_type": "markdown",
   "metadata": {
    "id": "ZTcyR48Y8DC2"
   },
   "source": [
    "- Based in the result, credit_card is the most order_ratio 74.7%, followed by boleto 19.2%, voucher 5.1% and debit_card 1%\n",
    "- Chart is showing that 2017 Credit Card Top 5 Product with Most Installments:1 are listed below:\n",
    "1. esporte_lazer = 1086\n",
    "2. moveis_decoracao = 829\n",
    "3. cama_mesa_banho = 792\n",
    "4. informatica_acessorios = 740\n",
    "5. telefonia_fixa = 145797"
   ]
  },
  {
   "cell_type": "markdown",
   "metadata": {},
   "source": []
  }
 ],
 "metadata": {
  "colab": {
   "provenance": []
  },
  "kernelspec": {
   "display_name": "myenv",
   "language": "python",
   "name": "python3"
  },
  "language_info": {
   "codemirror_mode": {
    "name": "ipython",
    "version": 3
   },
   "file_extension": ".py",
   "mimetype": "text/x-python",
   "name": "python",
   "nbconvert_exporter": "python",
   "pygments_lexer": "ipython3",
   "version": "3.12.3"
  },
  "orig_nbformat": 4
 },
 "nbformat": 4,
 "nbformat_minor": 0
}
